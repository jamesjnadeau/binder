{
  "nbformat": 4,
  "nbformat_minor": 0,
  "metadata": {
    "kernelspec": {
      "display_name": "Python 3",
      "language": "python",
      "name": "python3"
    },
    "language_info": {
      "codemirror_mode": {
        "name": "ipython",
        "version": 3
      },
      "file_extension": ".py",
      "mimetype": "text/x-python",
      "name": "python",
      "nbconvert_exporter": "python",
      "pygments_lexer": "ipython3",
      "version": "3.7.3"
    },
    "colab": {
      "name": "index.ipynb",
      "provenance": []
    }
  },
  "cells": [
    {
      "cell_type": "code",
      "metadata": {
        "id": "IV25qYLLbhkN",
        "colab_type": "code",
        "colab": {}
      },
      "source": [
        "# nbi:hide_in\t\n",
        "import ipywidgets as w"
      ],
      "execution_count": 0,
      "outputs": []
    },
    {
      "cell_type": "code",
      "metadata": {
        "id": "yHqtCUcPbhkU",
        "colab_type": "code",
        "colab": {}
      },
      "source": [
        "# nbi:hide_in\n",
        "test_view = w.Output()\n",
        "\n",
        "count = 0\n",
        "@test_view.capture(clear_output=True)\n",
        "def test_button_click(e):\n",
        "    global count\n",
        "    count+=1\n",
        "    display('Button pressed %s times' % str(count))\n",
        "\n",
        "test_button = w.Button(description=\"Test Button\")\n",
        "test_button.on_click(test_button_click)\n",
        "display(test_button)"
      ],
      "execution_count": 0,
      "outputs": []
    },
    {
      "cell_type": "code",
      "metadata": {
        "id": "ziDzuk2cbhki",
        "colab_type": "code",
        "colab": {}
      },
      "source": [
        "# nbi:hide_in\n",
        "display(test_view)"
      ],
      "execution_count": 0,
      "outputs": []
    }
  ]
}